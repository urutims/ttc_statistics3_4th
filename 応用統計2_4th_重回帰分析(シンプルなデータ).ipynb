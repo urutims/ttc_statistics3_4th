{
 "cells": [
  {
   "cell_type": "markdown",
   "metadata": {},
   "source": [
    "## 1.データについて"
   ]
  },
  {
   "cell_type": "code",
   "execution_count": 10,
   "metadata": {},
   "outputs": [
    {
     "name": "stdout",
     "output_type": "stream",
     "text": [
      "都道府県      0\n",
      "人口        0\n",
      "ホテル客室数    0\n",
      "旅館客室数     0\n",
      "魅力度       0\n",
      "dtype: int64\n",
      "                 人口        ホテル客室数         旅館客室数        魅力度\n",
      "count  4.700000e+01     47.000000     47.000000  47.000000\n",
      "mean   2.683960e+06  17600.234043  15644.063830  26.400000\n",
      "std    2.796582e+06  17671.324681  10879.597536  12.335615\n",
      "min    5.534070e+05   2567.000000   4540.000000  11.600000\n",
      "25%    1.068802e+06   7837.500000   8113.000000  18.700000\n",
      "50%    1.588256e+06  10918.000000  12565.000000  22.300000\n",
      "75%    2.688894e+06  22213.000000  19305.500000  30.200000\n",
      "max    1.404759e+07  97879.000000  47355.000000  73.400000\n",
      "都道府県       object\n",
      "人口        float64\n",
      "ホテル客室数      int64\n",
      "旅館客室数       int64\n",
      "魅力度       float64\n",
      "dtype: object\n",
      "              人口    ホテル客室数     旅館客室数       魅力度\n",
      "人口      1.000000  0.843940  0.541923  0.456821\n",
      "ホテル客室数  0.843940  1.000000  0.666313  0.718636\n",
      "旅館客室数   0.541923  0.666313  1.000000  0.471949\n",
      "魅力度     0.456821  0.718636  0.471949  1.000000\n"
     ]
    }
   ],
   "source": [
    "import pandas as pd\n",
    "\n",
    "# データの読み込み\n",
    "df = pd.read_csv('./都道府県魅力度.csv')\n",
    "print(df.isnull().sum()) # 欠損値の確認\n",
    "print(df.describe()) # 記述統計量の確認\n",
    "print(df.dtypes) # データ型の確認\n",
    "print(df.set_index('都道府県').corr()) # インデックスの変更と相関係数の確認"
   ]
  }
 ],
 "metadata": {
  "kernelspec": {
   "display_name": "base",
   "language": "python",
   "name": "python3"
  },
  "language_info": {
   "codemirror_mode": {
    "name": "ipython",
    "version": 3
   },
   "file_extension": ".py",
   "mimetype": "text/x-python",
   "name": "python",
   "nbconvert_exporter": "python",
   "pygments_lexer": "ipython3",
   "version": "3.11.7"
  }
 },
 "nbformat": 4,
 "nbformat_minor": 2
}
